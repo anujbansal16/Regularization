{
 "cells": [
  {
   "cell_type": "markdown",
   "metadata": {},
   "source": [
    "# <p style=\"padding:15px;background:yellow;text-align:center;text-decoration:underline\">Assigment 7<p>"
   ]
  },
  {
   "cell_type": "markdown",
   "metadata": {},
   "source": [
    "## - Import Libraries\n",
    "\n",
    "Import necessary libraries used in these assignment."
   ]
  },
  {
   "cell_type": "code",
   "execution_count": 1,
   "metadata": {},
   "outputs": [],
   "source": [
    "import numpy as np\n",
    "import pandas as pd\n",
    "import math\n",
    "import operator\n",
    "import matplotlib.pyplot as plt\n",
    "import matplotlib as mpl"
   ]
  },
  {
   "cell_type": "markdown",
   "metadata": {},
   "source": [
    "## - Read File (without header) given a delimeter\n",
    "\n",
    "Reads a file with a given delimeter and returns the converted numpy array.\n",
    "<br>\n",
    "Default when no delimeter is given it reads file as in csv format."
   ]
  },
  {
   "cell_type": "code",
   "execution_count": 2,
   "metadata": {},
   "outputs": [],
   "source": [
    "def readFile(trainFile,seperator=\",\",sample=False):\n",
    "    try:\n",
    "        data=pd.read_csv(trainFile, sep=seperator, header=None)\n",
    "        if sample:\n",
    "            data=data.sample(frac=1)\n",
    "        return data.values\n",
    "    except:\n",
    "        print(\"Error reading training data file\")"
   ]
  },
  {
   "cell_type": "markdown",
   "metadata": {},
   "source": [
    "## -Train Test split\n",
    "\n",
    "Given a percentage, it will split out the data into train dataset and test dataset."
   ]
  },
  {
   "cell_type": "code",
   "execution_count": 3,
   "metadata": {},
   "outputs": [],
   "source": [
    "def splitTrainTest(data,percent):\n",
    "    total=len(data)\n",
    "    trainTotal=int(total*percent*0.01)\n",
    "    testTotal=total-trainTotal\n",
    "    return (data[0:trainTotal],data[trainTotal:total])"
   ]
  },
  {
   "cell_type": "markdown",
   "metadata": {},
   "source": [
    "## Part-3 Linear regression to predict the probablity of getting the admit.\n",
    "\n",
    "Following **Error Measures** have been used under part-2 of this question\n",
    "\n",
    "**Mean Absolute Error:**\n",
    "$$ MAE = \\frac{1}{n}\\sum_{\\forall y}|y_{actual}-y_{predicted} | $$\n",
    "<hr>\n",
    "\n",
    "**Mean Square Error:**\n",
    "$$ MAE = \\frac{1}{n}\\sum_{\\forall y}(y_{actual}-y_{predicted} ){^2} $$\n",
    "\n",
    "<hr>\n",
    "\n",
    "**Mean Percentage Error:**\n",
    "$$ MAE = \\frac{100\\%}{n}\\sum_{\\forall y}\\frac{(y_{actual}-y_{predicted} )}{y_{actual}} $$\n"
   ]
  },
  {
   "cell_type": "code",
   "execution_count": 4,
   "metadata": {},
   "outputs": [],
   "source": [
    "# function return Mean absolute Value\n",
    "def MAE(testRecords,testYs,predictions):\n",
    "    error=0\n",
    "    for actual,predicted in zip(testYs,predictions):\n",
    "        predicted=predicted[0]\n",
    "        error+=abs(actual-predicted)\n",
    "    print(\"Mean Absolute Error = \",error/len(testYs))"
   ]
  },
  {
   "cell_type": "code",
   "execution_count": 5,
   "metadata": {},
   "outputs": [],
   "source": [
    "# function return Mean square error\n",
    "def MSE(testYs,predictions):\n",
    "    error=0\n",
    "    for actual,predicted in zip(testYs,predictions):\n",
    "        predicted=predicted[0]\n",
    "        error+=(actual-predicted)**2\n",
    "#     print(\"Mean Square Error = \",error/len(testYs))\n",
    "    return error/len(testYs)"
   ]
  },
  {
   "cell_type": "code",
   "execution_count": 6,
   "metadata": {},
   "outputs": [],
   "source": [
    "# function return Mean percentage error\n",
    "def MPE(testRecords,testYs,predictions):\n",
    "    error=0\n",
    "    for actual,predicted in zip(testYs,predictions):\n",
    "        predicted=predicted[0]\n",
    "        error+=(actual-predicted)/actual\n",
    "    print(\"Mean Percentage Error = \",100*error/len(testYs))"
   ]
  },
  {
   "cell_type": "markdown",
   "metadata": {},
   "source": [
    "### 3.1. Predicting probabiliy of getting admit\n",
    "\n",
    "As we know to calculate the value of dependent variable $Y$ we can use the below general equation:\n",
    "\n",
    "$$Y=\\beta_{0}+\\beta_{1}X_1+\\beta_{2}X_2+....+\\beta_{n}X_n+\\epsilon$$\n",
    "\n",
    "Then using matrix calculus we find that the least square estimate for $\\beta$ is given by:\n",
    "\n",
    "$$B=((X{^T}X){^-1}X{^T}Y)$$\n",
    "\n",
    "Hence the least square regession line can be given by\n",
    "$$Y=X\\beta$$"
   ]
  },
  {
   "cell_type": "code",
   "execution_count": 139,
   "metadata": {},
   "outputs": [],
   "source": [
    "import copy\n",
    "def predictProbAdmit(trainFile,percent,independentVariable=[1,2,3,4,5,6,7],targetIndex=8,forGraph=False,testFile=None):\n",
    "    data=pd.read_csv(trainFile).values\n",
    "    independentVariable=[0]+independentVariable\n",
    "    \n",
    "    train,test=splitTrainTest(data,percent)\n",
    "    \n",
    "    if testFile:\n",
    "        test=pd.read_csv(testFile).values\n",
    "    \n",
    "    otest=copy.deepcopy(test)\n",
    "    otrain=copy.deepcopy(train)\n",
    "    \n",
    "    testY=test[:,targetIndex]\n",
    "    trainY=train[:,targetIndex]\n",
    "    \n",
    "    test[:,0]=1 #changeing first column to constant so it can be used for intercept\n",
    "    train[:,0]=1\n",
    "    \n",
    "    train=train[:,independentVariable]\n",
    "    test=test[:,independentVariable]\n",
    "   \n",
    "    if forGraph:\n",
    "        test=train\n",
    "        testY=trainY\n",
    "        otest=otrain\n",
    "    mseErrorsValid=[]\n",
    "    mseErrorsTrain=[]\n",
    "    lambdaVal=[i for i in range(0,200)]\n",
    "    for i in lambdaVal:\n",
    "        y=np.transpose(np.matrix(trainY))\n",
    "        X=np.matrix(train)\n",
    "        XT=np.transpose(X)\n",
    "        iden=np.identity(XT.shape[0])*i\n",
    "        iden[0][0]=0\n",
    "        inverse=np.linalg.inv(XT*X+iden)\n",
    "        coefficents=inverse*XT*y\n",
    "        predictedValid=np.array(np.matrix(test)*coefficents)\n",
    "        predictedTrain=np.array(train*coefficents)\n",
    "#         coefficents=np.array(coefficents)\n",
    "        mseErrorsValid.append(MSE(testY,predictedValid))\n",
    "        mseErrorsTrain.append(MSE(trainY,predictedTrain))\n",
    "    plt.xlabel(\"regularisation coefficient λ\")\n",
    "    plt.ylabel(\"Error (MSE)\")\n",
    "    plt.title(\"Ridge regression\")\n",
    "    plt.grid(True)\n",
    "    plt.plot(lambdaVal,mseErrorsValid,color=\"orange\",linewidth=\"2.4\",label=\"Validation\")\n",
    "    plt.plot(lambdaVal,mseErrorsTrain,color=\"green\",linewidth=\"2.4\",label=\"Training\")\n",
    "    plt.legend(loc=4)\n",
    "    plt.show()\n"
   ]
  },
  {
   "cell_type": "code",
   "execution_count": 140,
   "metadata": {
    "scrolled": false
   },
   "outputs": [
    {
     "data": {
      "image/png": "[encoded data removed]",
      "text/plain": [
       "<Figure size 432x288 with 1 Axes>"
      ]
     },
     "metadata": {
      "needs_background": "light"
     },
     "output_type": "display_data"
    }
   ],
   "source": [
    "#with test data file as last parameter\n",
    "# printActualPredicted(*predictProbAdmit(\"AdmissionDataset/data.csv\",80,[1,2,3,4,5,6,7],8,False,\"AdmissionDataset/testData.csv\"))\n",
    "\n",
    "#evaluation on 20% validation data\n",
    "# printActualPredicted(*predictProbAdmit(\"AdmissionDataset/data.csv\",80))\n",
    "predictProbAdmit(\"AdmissionDataset/data.csv\",80)\n",
    "# predictProbAdmit(\"AdmissionDataset/data.csv\",80,[1,2,3,4,5,6,7],8,False,\"AdmissionDataset/testData.csv\")"
   ]
  },
  {
   "cell_type": "markdown",
   "metadata": {},
   "source": [
    "### 3.2. Performance of Mean square error loss function vs Mean Absolute error function vs Mean absolute percentage error function."
   ]
  },
  {
   "cell_type": "code",
   "execution_count": 25,
   "metadata": {
    "scrolled": false
   },
   "outputs": [
    {
     "name": "stdout",
     "output_type": "stream",
     "text": [
      "Mean Square Error =  0.004663968348542755\n",
      "Mean Absolute Error =  0.04976955657387148\n",
      "Mean Percentage Error =  -2.049160071628781\n"
     ]
    }
   ],
   "source": [
    "# MSE(*predictProbAdmit(\"AdmissionDataset/data.csv\",80,[1,2,3,4,5,6,7],8,False,\"AdmissionDataset/testData.csv\")[:3])\n",
    "# MAE(*predictProbAdmit(\"AdmissionDataset/data.csv\",80,[1,2,3,4,5,6,7],8,False,\"AdmissionDataset/testData.csv\")[:3])\n",
    "# MPE(*predictProbAdmit(\"AdmissionDataset/data.csv\",80,[1,2,3,4,5,6,7],8,False,\"AdmissionDataset/testData.csv\")[:3])\n",
    "\n",
    "MSE(*predictProbAdmit(\"AdmissionDataset/data.csv\",80)[:3])\n",
    "MAE(*predictProbAdmit(\"AdmissionDataset/data.csv\",80)[:3])\n",
    "MPE(*predictProbAdmit(\"AdmissionDataset/data.csv\",80)[:3])"
   ]
  },
  {
   "cell_type": "code",
   "execution_count": 142,
   "metadata": {
    "scrolled": true
   },
   "outputs": [
    {
     "data": {
      "image/png": "[encoded data removed]",
      "text/plain": [
       "<Figure size 432x288 with 1 Axes>"
      ]
     },
     "metadata": {
      "needs_background": "light"
     },
     "output_type": "display_data"
    }
   ],
   "source": [
    "import copy\n",
    "def predictProbAdmitGD(trainFile,percent,independentVariable=[1,2,3,4,5,6,7],targetIndex=8,forGraph=False,testFile=None):\n",
    "    data=pd.read_csv(trainFile).values\n",
    "    independentVariable=[0]+independentVariable\n",
    "    \n",
    "    train,test=splitTrainTest(data,percent)\n",
    "    \n",
    "    if testFile:\n",
    "        test=pd.read_csv(testFile).values\n",
    "    \n",
    "    otest=copy.deepcopy(test)\n",
    "    otrain=copy.deepcopy(train)\n",
    "    \n",
    "    \n",
    "    testY=test[:,targetIndex]\n",
    "    trainY=train[:,targetIndex]\n",
    "    \n",
    "    train=(train-train.mean(axis=0))/(train.std(axis=0))\n",
    "    test=(test-test.mean(axis=0))/(test.std(axis=0))\n",
    "    \n",
    "    test[:,0]=1 #changeing first column to constant so it can be used for intercept\n",
    "    train[:,0]=1\n",
    "    \n",
    "    train=train[:,independentVariable]\n",
    "    \n",
    "    test=test[:,independentVariable]\n",
    "   \n",
    "    if forGraph:\n",
    "        test=train\n",
    "        testY=trainY\n",
    "        otest=otrain\n",
    "        \n",
    "    mseErrorsValid=[]\n",
    "    mseErrorsTrain=[]\n",
    "    lambdaVal=[i for i in range(200)]\n",
    "#     lambdaVal=np.linspace(1,20,200)\n",
    "    for lambdaV in lambdaVal:\n",
    "        learningR=0.1\n",
    "        epochs=1000\n",
    "        theta=np.zeros((train.shape[1],1))\n",
    "        m=len(trainY)    \n",
    "\n",
    "        trainY=trainY.reshape(-1,1)\n",
    "        testY=testY.reshape(-1,1)\n",
    "\n",
    "        for i in range(epochs):\n",
    "            predictions=np.dot(train,theta)\n",
    "#             theta=theta-(2/m)*learningR*(train.T.dot((predictions-trainY)))\n",
    "            theta = theta - learningR*((2/m)*train.T.dot((predictions-trainY)) + lambdaV*np.sign(theta)) #performing gradient descent for w\n",
    "\n",
    "        predictedTrain=np.dot(train,theta)\n",
    "        predictedValid=np.dot(test,theta)\n",
    "        mseErrorsValid.append(MSE(testY,predictedValid))\n",
    "        mseErrorsTrain.append(MSE(trainY,predictedTrain))\n",
    "    plt.xlabel(\"regularisation coefficient λ\")\n",
    "    plt.ylabel(\"Error (MSE)\")\n",
    "    plt.grid(True)\n",
    "    plt.plot(lambdaVal,mseErrorsValid,color=\"orange\",linewidth=\"2.4\",label=\"Validation\")\n",
    "    plt.plot(lambdaVal,mseErrorsTrain,color=\"green\",linewidth=\"2.4\",label=\"Training\")\n",
    "    plt.title(\"Lasso regression\")\n",
    "    plt.legend(loc=4)\n",
    "    plt.show()\n",
    "\n",
    "predictProbAdmitGD(\"AdmissionDataset/data.csv\",80)"
   ]
  }
 ],
 "metadata": {
  "kernelspec": {
   "display_name": "Python 3",
   "language": "python",
   "name": "python3"
  },
  "language_info": {
   "codemirror_mode": {
    "name": "ipython",
    "version": 3
   },
   "file_extension": ".py",
   "mimetype": "text/x-python",
   "name": "python",
   "nbconvert_exporter": "python",
   "pygments_lexer": "ipython3",
   "version": "3.7.1"
  }
 },
 "nbformat": 4,
 "nbformat_minor": 2
}
